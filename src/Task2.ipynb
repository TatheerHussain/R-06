{
 "cells": [
  {
   "cell_type": "markdown",
   "id": "4cb9483b-5fdf-4d95-8045-e67c76971a77",
   "metadata": {},
   "source": [
    "# Read the result of Task 1 and finish the Task 2"
   ]
  },
  {
   "cell_type": "code",
   "execution_count": 1,
   "id": "f78527f0-8f1e-43d8-ab7e-7f3141a02dd7",
   "metadata": {
    "tags": []
   },
   "outputs": [],
   "source": [
    "import os\n",
    "import re"
   ]
  },
  {
   "cell_type": "code",
   "execution_count": 2,
   "id": "a63837e2-434a-46de-8865-1ecc98c4089e",
   "metadata": {
    "tags": []
   },
   "outputs": [],
   "source": [
    "#load data of task1\n",
    "test_label_path = \"./submission/answer.txt\""
   ]
  },
  {
   "cell_type": "code",
   "execution_count": 3,
   "id": "b500c084-a201-47dc-82c6-bdd7b8eac978",
   "metadata": {
    "tags": []
   },
   "outputs": [],
   "source": [
    "def create_label_dict(label_path):\n",
    "    label_dict = {}  # y\n",
    "    with open(label_path, \"r\", encoding=\"utf-8-sig\") as f:\n",
    "        file_text = f.read().strip()  \n",
    "\n",
    "    # (id, label, start, end, query) or (id, label, start, end, query, time_org, timefix)\n",
    "    for line in file_text.split(\"\\n\"):\n",
    "        sample = line.split(\"\\t\")  \n",
    "        sample[2], sample[3] = int(sample[2]), int(sample[3])\n",
    "\n",
    "        if sample[0] not in label_dict:\n",
    "            label_dict[sample[0]] = [sample[1:]]\n",
    "        else:\n",
    "            label_dict[sample[0]].append(sample[1:])\n",
    "\n",
    "    return label_dict\n",
    "\n",
    "test_label_dict = create_label_dict(test_label_path)"
   ]
  },
  {
   "cell_type": "code",
   "execution_count": 4,
   "id": "9c192cbf-6230-4a8c-958f-78c725ebac25",
   "metadata": {
    "tags": []
   },
   "outputs": [
    {
     "name": "stdout",
     "output_type": "stream",
     "text": [
      "560\n"
     ]
    }
   ],
   "source": [
    "# check num(ID)\n",
    "print(len(list(test_label_dict.keys())))"
   ]
  },
  {
   "cell_type": "code",
   "execution_count": 5,
   "id": "720ec312-48cb-4376-891b-6fb45659e88a",
   "metadata": {
    "tags": []
   },
   "outputs": [],
   "source": [
    "def process_labels(test_label_dict, label_type, normalize_label_func):\n",
    "    \"\"\"\n",
    "    Process labels for a specific label type in the test label dictionary.\n",
    "\n",
    "    Parameters:\n",
    "    - test_label_dict (dict): Dictionary containing labels for the test dataset.\n",
    "    - label_type (str): Specific label type to be processed.\n",
    "    - normalize_label_func (function): Function to normalize label text.\n",
    "\n",
    "    Returns:\n",
    "    - processed_label_dict (dict): Processed label dictionary with normalized label text.\n",
    "    - label_ids (list): List of record IDs that have labels of the specified type.\n",
    "\n",
    "    This function processes labels for a specific label type, normalizes the label text, and returns the processed label dictionary along with a list of record IDs containing labels of the specified type.\n",
    "    \n",
    "    \"\"\"\n",
    "    processed_label_dict = {}\n",
    "    label_ids = []\n",
    "\n",
    "    for record_id, labels in test_label_dict.items():\n",
    "        normalized_labels = []\n",
    "\n",
    "        for label in labels:\n",
    "            if label[0] == label_type:\n",
    "                normalized_text = normalize_label_func(label[3])\n",
    "                normalized_label = label[:3] + [label[3], normalized_text]\n",
    "                normalized_labels.append(normalized_label)\n",
    "            else:\n",
    "                normalized_labels.append(label)\n",
    "\n",
    "        if any(label[0] == label_type for label in normalized_labels):\n",
    "            label_ids.append(record_id)\n",
    "\n",
    "        processed_label_dict[record_id] = normalized_labels\n",
    "    return processed_label_dict, label_ids\n",
    "\n",
    "def check_label_results(processed_label_dict, label_ids, label_type):\n",
    "    \"\"\"\n",
    "    Check and print the original and normalized label results for a specific label type.\n",
    "\n",
    "    Parameters:\n",
    "    - processed_label_dict (dict): Processed label dictionary.\n",
    "    - label_ids (list): List of record IDs containing labels of the specified type.\n",
    "    - label_type (str): Specific label type to check.\n",
    "\n",
    "    This function checks and prints the original and normalized label results for a specific label type in the processed label dictionary.\n",
    "\n",
    "\n",
    "    \"\"\"\n",
    "    for record_id in label_ids:\n",
    "        for label in processed_label_dict[record_id]:\n",
    "            if label[0] == label_type:\n",
    "                print(f\"ID: {record_id}, Original: {label[3]}, {label_type}: {label[4]}\")"
   ]
  },
  {
   "cell_type": "markdown",
   "id": "ce8fe965-73ba-4cc4-81d8-a10d4927de15",
   "metadata": {},
   "source": [
    "# Check the Duration"
   ]
  },
  {
   "cell_type": "code",
   "execution_count": 6,
   "id": "232ebdea-fd02-44e0-b4b6-41a78275e06f",
   "metadata": {
    "tags": []
   },
   "outputs": [],
   "source": [
    "def normalize_duration(label):\n",
    "    \"\"\"\n",
    "    Normalize duration labels to a standard format (ISO 8601 Duration).\n",
    "\n",
    "    Parameters:\n",
    "    - label (str): Original duration label to be normalized.\n",
    "\n",
    "    Returns:\n",
    "    - str: Normalized duration label in ISO 8601 Duration format.\n",
    "\n",
    "    This function takes an original duration label and normalizes it to the ISO 8601 Duration format. It supports various input formats like 'two years', '2-3 months', '3 w', etc., and converts them to the standardized format 'P2Y3M', representing 2 years and 3 months.\n",
    "\n",
    "    \"\"\"\n",
    "    number_map = {\n",
    "        'one': '1', 'two': '2', 'three': '3', 'four': '4', 'five': '5',\n",
    "        'six': '6', 'seven': '7', 'eight': '8', 'nine': '9', 'ten': '10',\n",
    "        'eleven': '11', 'twelve': '12', 'thirteen': '13', 'fourteen': '14',\n",
    "        'fifteen': '15', 'sixteen': '16', 'seventeen': '17', 'eighteen': '18',\n",
    "        'nineteen': '19', 'twenty': '20', 'thirty': '30', 'forty': '40', 'fifty': '50'\n",
    "    }\n",
    "\n",
    "    label_text = label.lower()\n",
    "    standard_form = ''\n",
    "\n",
    "    temp = label_text.split()\n",
    "    words = [number_map.get(word, word) for word in temp]\n",
    "\n",
    "    k = 0\n",
    "    for word in words:\n",
    "        if any(char.isdigit() for char in word):\n",
    "            break\n",
    "        k += 1\n",
    "\n",
    "    if k == len(words):\n",
    "        return '<unknown>'\n",
    "\n",
    "    label_text = ' '.join(words[k:])\n",
    "\n",
    "    match = re.match(r'(\\d+|\\w+)(-)?(\\d+)?\\s*(year|yr|month|week|day|w|m|y|d)s?', label_text)\n",
    "    if match:\n",
    "        num1, hyphen, num2, unit = match.groups()\n",
    "\n",
    "        if hyphen and num2:\n",
    "            avg_num = (float(num1) + float(num2)) / 2\n",
    "            num1 = str(avg_num)\n",
    "\n",
    "        unit_map = {'year': 'Y', 'yr': 'Y', 'month': 'M', 'week': 'W', 'day': 'D',\n",
    "                    'y': 'Y', 'm': 'M', 'w': 'W', 'd': 'D'}\n",
    "        unit = unit_map.get(unit, unit)\n",
    "\n",
    "        return f'P{num1}{unit}'\n",
    "\n",
    "    return '<unknown>'\n"
   ]
  },
  {
   "cell_type": "code",
   "execution_count": 7,
   "id": "90b7b96d-e7a3-46f0-874a-096852f26b5b",
   "metadata": {
    "tags": []
   },
   "outputs": [],
   "source": [
    "processed_duration_dict, duration_ids = process_labels(test_label_dict, 'DURATION', normalize_duration)"
   ]
  },
  {
   "cell_type": "code",
   "execution_count": 8,
   "id": "72a7af16-b79f-4d8c-b5d4-d635afdd2c2a",
   "metadata": {
    "tags": []
   },
   "outputs": [
    {
     "name": "stdout",
     "output_type": "stream",
     "text": [
      "['1023', '1029', '1055', '180', '689', '887', '894', 'file30591']\n"
     ]
    }
   ],
   "source": [
    "print(duration_ids)"
   ]
  },
  {
   "cell_type": "code",
   "execution_count": 9,
   "id": "8b7aad10-4e75-47b4-8be0-81e48d87e221",
   "metadata": {
    "tags": []
   },
   "outputs": [
    {
     "name": "stdout",
     "output_type": "stream",
     "text": [
      "ID: 1023, Original: 2 years, DURATION: P2Y\n",
      "ID: 1029, Original: 18/12, DURATION: <unknown>\n",
      "ID: 1055, Original: several years, DURATION: <unknown>\n",
      "ID: 180, Original: 2 years, DURATION: P2Y\n",
      "ID: 689, Original: 18 months, DURATION: P18M\n",
      "ID: 887, Original: Now 4-5 month, DURATION: P4.5M\n",
      "ID: 894, Original: 16 yr, DURATION: P16Y\n",
      "ID: file30591, Original: 6 weeks, DURATION: P6W\n"
     ]
    }
   ],
   "source": [
    "#check the results of processed_test_label_dict\n",
    "check_label_results(processed_duration_dict, duration_ids, 'DURATION')"
   ]
  },
  {
   "cell_type": "code",
   "execution_count": 10,
   "id": "fbaa71b7-ea9f-46c6-ba56-20b2d0d93e42",
   "metadata": {
    "tags": []
   },
   "outputs": [],
   "source": [
    "### DURATION of validation data\n",
    "# {'1023': [['DURATION', 365, 372, '2 years', 'P2Y']],\n",
    "#  '180': [['DURATION', 363, 370, '2 years', 'P2Y']],\n",
    "#  '689': [['DURATION', 372, 381, '18 months', 'P18M']],\n",
    "#  '887': [['DURATION', 410, 419, '4-5 month', 'P4.5M']],\n",
    "#  '894': [['DURATION', 358, 363, '16 yr', 'P16Y']],\n",
    "#  'file30591': [['DURATION', 232, 239, '6 weeks', 'P6W']]}\n",
    "\n",
    "# need more postprocess, delete the error DURATION"
   ]
  },
  {
   "cell_type": "code",
   "execution_count": null,
   "id": "32177600-78fa-4b3a-978c-b8002b7a916b",
   "metadata": {},
   "outputs": [],
   "source": []
  },
  {
   "cell_type": "markdown",
   "id": "267a6e60-d537-435b-96fa-575b2981f378",
   "metadata": {
    "tags": []
   },
   "source": [
    "# Check the Labels Set"
   ]
  },
  {
   "cell_type": "code",
   "execution_count": 11,
   "id": "29638573-9361-40f1-b6a6-291f4b40b210",
   "metadata": {
    "tags": []
   },
   "outputs": [],
   "source": [
    "def normalize_set_label(original_text):\n",
    "    \"\"\"\n",
    "    Normalize duration labels to a standard format (ISO 8601 Duration).\n",
    "\n",
    "    Parameters:\n",
    "    - label (str): Original duration label to be normalized.\n",
    "\n",
    "    Returns:\n",
    "    - str: Normalized duration label in ISO 8601 Duration format.\n",
    "\n",
    "    This function takes an original duration label and normalizes it to the ISO 8601 Duration format. It supports various input formats like 'two years', '2-3 months', '3 w', etc., and converts them to the standardized format 'P2Y3M', representing 2 years and 3 months.\n",
    "\n",
    "    \"\"\"\n",
    "    set_rules = {\n",
    "        'twice': 'R2',\n",
    "        'years': 'RP1D',\n",
    "        # possible??\n",
    "        'daily': 'R1D',\n",
    "        'weekly': 'R1W',\n",
    "        'monthly': 'R1M',\n",
    "        'annually': 'R1Y',\n",
    "    }\n",
    "\n",
    "    if original_text in set_rules:\n",
    "        return set_rules[original_text]\n",
    "    else:\n",
    "        return original_text\n",
    " "
   ]
  },
  {
   "cell_type": "code",
   "execution_count": 12,
   "id": "6d3bc935-3d03-475a-854f-e3d2d29d051e",
   "metadata": {
    "tags": []
   },
   "outputs": [],
   "source": [
    "processed_set_dict, set_ids = process_labels(test_label_dict, 'SET', normalize_set_label)"
   ]
  },
  {
   "cell_type": "code",
   "execution_count": 13,
   "id": "f0f7e04d-23f8-4435-bd95-9ba452358fdc",
   "metadata": {
    "tags": []
   },
   "outputs": [],
   "source": [
    "#check the results of processed_test_label_dict\n",
    "check_label_results(processed_set_dict, set_ids, 'SET')"
   ]
  },
  {
   "cell_type": "code",
   "execution_count": 14,
   "id": "18fa559d-641d-4532-88eb-db6f9cfe5e89",
   "metadata": {
    "tags": []
   },
   "outputs": [
    {
     "data": {
      "text/plain": [
       "'R2'"
      ]
     },
     "execution_count": 14,
     "metadata": {},
     "output_type": "execute_result"
    }
   ],
   "source": [
    "### there is no SET in Validation data\n",
    "# careful of SET, maybe we can use training data to generate prediction, then try to compare SET\n",
    "normalize_set_label('twice')"
   ]
  },
  {
   "cell_type": "markdown",
   "id": "c2d51479-4235-40a9-98a0-44b9d6408405",
   "metadata": {},
   "source": [
    "# Check the DATE"
   ]
  },
  {
   "cell_type": "code",
   "execution_count": 15,
   "id": "5e0518ab-4a05-4c64-b6c5-731fa0d76242",
   "metadata": {
    "tags": []
   },
   "outputs": [],
   "source": [
    "def standardize_date_format(date_str):\n",
    "    \"\"\"\n",
    "    Standardize the date format from various representations to the 'YYYY-MM-DD' format.\n",
    "\n",
    "    Parameters:\n",
    "    - date_str (str): Original date string in various formats.\n",
    "\n",
    "    Returns:\n",
    "    - str: Standardized date string in 'YYYY-MM-DD' format or '0000-00-00' for invalid cases.\n",
    "\n",
    "    This function takes a date string in various representations and standardizes it to the 'YYYY-MM-DD' format. It supports a wide range of date formats, including different delimiters, month representations, and variations. If the input date string cannot be parsed, '0000-00-00' is returned.\n",
    "\n",
    "    \"\"\"\n",
    "    date_str = date_str.lower()\n",
    "    # \"30th of the 5th 2016\" \n",
    "    if match := re.match(r'(\\d{1,2})(?:st|nd|rd|th)? of the (\\d{1,2})(?:st|nd|rd|th)? (\\d{4})', date_str):\n",
    "        day, month, year = match.groups()\n",
    "        day = day.zfill(2)\n",
    "        month = month.zfill(2)\n",
    "        return f\"{year}-{month}-{day}\"    \n",
    "    \n",
    "    # remove the, th, rd...(the 12th of December 2013)\n",
    "    date_str = re.sub(r'the\\s*(\\d{1,2})(st|nd|rd|th)?', r'\\1', date_str)    \n",
    "    \n",
    "    # solve 12/.03.14 ---> 12.03.14\n",
    "    date_str = re.sub(r'([/.-])([/.-])', r'/', date_str)\n",
    "        \n",
    "    # month (12 of December 2013)\n",
    "    month_map = {\n",
    "        'jan': '01', 'january': '01',\n",
    "        'feb': '02', 'february': '02',\n",
    "        'mar': '03', 'march': '03',\n",
    "        'apr': '04', 'april': '04',\n",
    "        'may': '05',\n",
    "        'jun': '06', 'june': '06',\n",
    "        'jul': '07', 'july': '07',\n",
    "        'aug': '08', 'august': '08',\n",
    "        'sep': '09', 'sept': '09', 'september': '09',\n",
    "        'oct': '10', 'october': '10',\n",
    "        'nov': '11', 'november': '11',\n",
    "        'dec': '12', 'december': '12'\n",
    "    }\n",
    "    \n",
    "    # YYYY-MM-DD (2063-05-29)\n",
    "    if re.match(r'\\d{4}-\\d{2}-\\d{2}', date_str):\n",
    "        return date_str\n",
    "    # DD-MM-YYYY\n",
    "    elif match := re.match(r'(\\d{2})-(\\d{2})-(\\d{4})', date_str):\n",
    "        day, month, year = match.groups()\n",
    "        return f\"{year}-{month}-{day}\"\n",
    "    \n",
    "    # DDMMYYYY (02/01/2013)\n",
    "    elif match := re.match(r'(\\d{2})/(\\d{2})/(\\d{4})', date_str):\n",
    "        day, month, year = match.groups()\n",
    "        return f\"{year}-{month}-{day}\"\n",
    "\n",
    "    # YYYYMMDD (20630201)\n",
    "    elif re.match(r'\\d{8}', date_str):\n",
    "        return f\"{date_str[0:4]}-{date_str[4:6]}-{date_str[6:8]}\"\n",
    "    \n",
    "    #  solve 17/32064 or 1/32064\n",
    "    elif match := re.match(r'(\\d{1,2})/(\\d{1,2})(\\d{4})', date_str):\n",
    "        day, month, year = match.groups()\n",
    "        day = day.zfill(2)\n",
    "        month = month.zfill(2)\n",
    "        return f\"{year}-{month}-{day}\"\n",
    "    \n",
    "    # solve DD.MM.YYYY or D/M/YYYY or D.M.YYYY 格式\n",
    "    elif re.match(r'\\d{1,2}[./,]\\d{1,2}[./,]\\d{2,4}', date_str):\n",
    "        parts = re.split(r'[./,]', date_str)\n",
    "        day, month = parts[0], parts[1]\n",
    "        year = parts[2] if len(parts[2]) == 4 else f\"20{parts[2]}\"\n",
    "        day = f\"0{day}\" if len(day) == 1 else day\n",
    "        month = f\"0{month}\" if len(month) == 1 else month\n",
    "        return f\"{year}-{month}-{day}\"     \n",
    "\n",
    "    # solve YY\n",
    "    elif match := re.match(r'(\\d{1,2})[./-](\\d{1,2})[./-](\\d{2})', date_str):\n",
    "        day, month, year = match.groups()\n",
    "        day = day.zfill(2)\n",
    "        month = month.zfill(2)\n",
    "        year = f\"20{year}\"\n",
    "        return f\"{year}-{month}-{day}\"        \n",
    "    \n",
    "    # only MM/YYYY \n",
    "    elif match := re.match(r'(\\d{1,2})/(\\d{4})', date_str):\n",
    "        month, year = match.groups()\n",
    "        month = f\"0{month}\" if len(month) == 1 else month\n",
    "        return f\"{year}-{month}\"      \n",
    "\n",
    "    # solve /4/2062\n",
    "    elif match := re.match(r'/(\\d{1,2})/(\\d{4})', date_str):\n",
    "        month, year = match.groups()\n",
    "        month = f\"0{month}\" if len(month) == 1 else month\n",
    "        return f\"{year}-{month}\"\n",
    "    \n",
    "    # special case \n",
    "    elif match := re.match(r'(\\d{3})/(\\d{1,2})/(\\d{4})', date_str):\n",
    "        day, month, year = match.groups()\n",
    "        day = f\"0{day}\" if len(day) == 1 else day\n",
    "        month = f\"0{month}\" if len(month) == 1 else month\n",
    "        return f\"{year}-{month}-{day}\"\n",
    "    \n",
    "    #  MM/YY\n",
    "    elif match := re.match(r'(\\d{1,2})/(\\d{2})', date_str):\n",
    "        month, year = match.groups()\n",
    "        month = f\"0{month}\" if len(month) == 1 else month\n",
    "        year = f\"20{year}\"\n",
    "        return f\"{year}-{month}\"\n",
    "\n",
    "    # DD-MMM-YY or DD-MMM-YYYY \n",
    "    elif match := re.match(r'(\\d{1,2})-([a-zA-Z]{3})-(\\d{2,4})', date_str):\n",
    "        day, month_str, year = match.groups()\n",
    "        month = month_map.get(month_str.lower(), '01')\n",
    "        day = day.zfill(2)\n",
    "        year = year if len(year) == 4 else f\"20{year}\"\n",
    "        return f\"{year}-{month}-{day}\"    \n",
    "\n",
    "    # 21 6.62\n",
    "    elif match := re.match(r'(\\d{1,2})[ ./-](\\d{1,2})[ ./-](\\d{2})', date_str):\n",
    "        day, month, year = match.groups()\n",
    "        day = day.zfill(2)\n",
    "        month = month.zfill(2)\n",
    "        year = f\"20{year}\"\n",
    "        return f\"{year}-{month}-{day}\"\n",
    "    \n",
    "    # 0408.13 -->2013.04.08\n",
    "    elif match := re.match(r'(\\d{2})(\\d{2})\\.(\\d{2})', date_str):\n",
    "        month, day, year = match.groups()\n",
    "        year = f\"20{year}\"\n",
    "        return f\"{year}-{month}-{day}\"\n",
    "    \n",
    "    # YYYY\n",
    "    elif re.match(r'\\d{4}', date_str):\n",
    "        return f\"{date_str}\"\n",
    "    \n",
    "    # YYY\n",
    "    elif re.match(r'\\d{3}', date_str):\n",
    "        year = f\"2{date_str}\"\n",
    "        return f\"{year}\"\n",
    "    \n",
    "    # solve /7/62\n",
    "    elif match := re.match(r'/(\\d{1,2})/(\\d{2})', date_str):\n",
    "        month, year = match.groups()\n",
    "        month = f\"0{month}\" if len(month) == 1 else month\n",
    "        year = f\"20{year}\"\n",
    "        return f\"{year}-{month}\"\n",
    "    \n",
    "    #  the DDth of MMMM YYYY\n",
    "    elif match := re.match(r'the (\\d{1,2})(?:st|nd|rd|th)? of ([a-zA-Z]+) (\\d{4})', date_str):\n",
    "        day, month_str, year = match.groups()\n",
    "        month = month_map.get(month_str.lower()[:3], '01')\n",
    "        day = f\"0{day}\" if len(day) == 1 else day\n",
    "        return f\"{year}-{month}-{day}\"    \n",
    "    \n",
    "    # English month (03-Sep-2013)\n",
    "    elif match := re.match(r'(\\d{1,2})(?:st|nd|rd|th)?\\s*of\\s*([a-zA-Z]+)\\s*(\\d{2,4})', date_str):\n",
    "        day, month_str, year = match.groups()\n",
    "        month = month_map.get(month_str.lower()[:3], '01')\n",
    "        day = f\"0{day}\" if len(day) == 1 else day\n",
    "        year = year if len(year) == 4 else f\"20{year}\"\n",
    "        return f\"{year}-{month}-{day}\"\n",
    "    # September 2013\n",
    "    elif match := re.match(r'([a-zA-Z]+)\\s*(\\d{2,4})', date_str):\n",
    "        month_str, year = match.groups()\n",
    "        month = month_map.get(month_str.lower()[:3], '01')\n",
    "        return f\"{year}-{month}\"\n",
    "    # 21 June 1962\n",
    "    elif match := re.match(r'(\\d{1,2})\\s([a-zA-Z]+)\\s(\\d{2,4})', date_str):\n",
    "        day, month_str, year = match.groups()\n",
    "        month = month_map.get(month_str.lower()[:3], '01')\n",
    "        day = f\"0{day}\" if len(day) == 1 else day\n",
    "        year = year if len(year) == 4 else f\"20{year}\"\n",
    "        return f\"{year}-{month}-{day}\"\n",
    "\n",
    "    else:\n",
    "        return '0000-00-00'\n",
    "#        return date_str\n",
    "\n"
   ]
  },
  {
   "cell_type": "code",
   "execution_count": 16,
   "id": "043c1131-5c96-444f-823c-1425784781b5",
   "metadata": {
    "tags": []
   },
   "outputs": [
    {
     "name": "stdout",
     "output_type": "stream",
     "text": [
      "2013-12-12\n",
      "2013-09-03\n",
      "2013-04-05\n",
      "2013-04-08\n"
     ]
    }
   ],
   "source": [
    "print(standardize_date_format(\"the 12th of December 2013\"))  \n",
    "print(standardize_date_format(\"03-Sep-2013\")) \n",
    "print(standardize_date_format(\"05/04/2013gbujvjv\"))\n",
    "print(standardize_date_format('0408.13'))"
   ]
  },
  {
   "cell_type": "code",
   "execution_count": 17,
   "id": "a7f424bf-9d50-427b-bacc-af68e3d1c118",
   "metadata": {
    "tags": []
   },
   "outputs": [],
   "source": [
    "def normalize_date_label_for_record(record_id, label_dict):\n",
    "    \"\"\"\n",
    "    Normalize date labels for a specific medical record.\n",
    "\n",
    "    Parameters:\n",
    "    - record_id (str): The ID of the medical record.\n",
    "    - label_dict (dict): A dictionary containing the labels for different records.\n",
    "\n",
    "    Returns:\n",
    "    - list: A list of normalized labels for the specified medical record.\n",
    "\n",
    "    This function takes a medical record ID and a dictionary of labels for different records. It returns a list of normalized labels for the specified medical record. Date labels are normalized using the 'standardize_date_format' function. If the record ID is not found in the label dictionary, an empty list is returned.\n",
    "\n",
    "    \"\"\"\n",
    "\n",
    "    if record_id not in label_dict:\n",
    "        return []\n",
    "\n",
    "    normalized_labels = []\n",
    "\n",
    "    # define now, previous, today, original\n",
    "    special_dates = {\n",
    "        \"today\": \"2062-09-13\",\n",
    "        \"previous\": \"2064-05-27\",\n",
    "        \"now\": \"2062-11-27\",\n",
    "        \"original\": \"2063-10-30\"\n",
    "    }\n",
    "\n",
    "    for label in label_dict[record_id]:\n",
    "        if label[0] == 'DATE':\n",
    "            date_str = label[3].lower()  \n",
    "\n",
    "            if date_str in special_dates:\n",
    "                formatted_date = special_dates[date_str]  \n",
    "            else:\n",
    "                formatted_date = standardize_date_format(label[3]) \n",
    "\n",
    "            normalized_label = label[:3] + [label[3], formatted_date]\n",
    "            normalized_labels.append(normalized_label)\n",
    "        else:\n",
    "            normalized_labels.append(label)  \n",
    "\n",
    "    return normalized_labels\n"
   ]
  },
  {
   "cell_type": "code",
   "execution_count": 18,
   "id": "ecbcfc5a-5fa8-4b0c-979d-70f583ec24f6",
   "metadata": {
    "tags": []
   },
   "outputs": [],
   "source": [
    "processed_date_dict, date_ids = process_labels(test_label_dict, 'DATE', standardize_date_format)\n"
   ]
  },
  {
   "cell_type": "code",
   "execution_count": 19,
   "id": "83859d9d-26e5-4af8-aa9d-c56ae5493367",
   "metadata": {
    "tags": []
   },
   "outputs": [],
   "source": [
    "#check date_ids\n",
    "#print(date_ids)"
   ]
  },
  {
   "cell_type": "code",
   "execution_count": 20,
   "id": "f0a6ff6c-9b5a-460f-b910-33fce643fefa",
   "metadata": {
    "tags": []
   },
   "outputs": [],
   "source": [
    "#check_label_results(processed_date_dict, date_ids, 'DATE')"
   ]
  },
  {
   "cell_type": "code",
   "execution_count": 21,
   "id": "5e7feca3-12f0-4ef8-98f8-cab6e0159a61",
   "metadata": {
    "tags": []
   },
   "outputs": [
    {
     "name": "stdout",
     "output_type": "stream",
     "text": [
      "ID: 1032, Original: Now, DATE: 0000-00-00\n",
      "ID: 1050, Original: today, DATE: 0000-00-00\n",
      "ID: 1055, Original: now, DATE: 0000-00-00\n",
      "ID: 1057, Original: ED, DATE: 0000-00-00\n",
      "ID: 1059, Original: now, DATE: 0000-00-00\n",
      "ID: 1084, Original: today, DATE: 0000-00-00\n",
      "ID: 250, Original: 26th of November, DATE: 0000-00-00\n",
      "ID: 583, Original: original, DATE: 0000-00-00\n",
      "ID: 591, Original: 69, DATE: 0000-00-00\n",
      "ID: 672, Original: now, DATE: 0000-00-00\n",
      "ID: 689, Original: Now, DATE: 0000-00-00\n",
      "ID: 697, Original: now, DATE: 0000-00-00\n",
      "ID: 721, Original: today, DATE: 0000-00-00\n",
      "ID: 722, Original: today, DATE: 0000-00-00\n",
      "ID: 724, Original: today, DATE: 0000-00-00\n",
      "ID: 735, Original: original, DATE: 0000-00-00\n",
      "ID: 751, Original: 3, DATE: 0000-00-00\n",
      "ID: 751, Original: 52, DATE: 0000-00-00\n",
      "ID: 768, Original: originally, DATE: 0000-00-00\n",
      "ID: 768, Original: original, DATE: 0000-00-00\n",
      "ID: 820, Original: now, DATE: 0000-00-00\n",
      "ID: 875, Original: now, DATE: 0000-00-00\n",
      "ID: 878, Original: now, DATE: 0000-00-00\n",
      "ID: 893, Original: LV, DATE: 0000-00-00\n",
      "ID: 897, Original: today, DATE: 0000-00-00\n",
      "ID: 915, Original: now, DATE: 0000-00-00\n",
      "ID: 945, Original: now, DATE: 0000-00-00\n",
      "ID: 976, Original: today, DATE: 0000-00-00\n",
      "ID: file20864, Original: REC, DATE: 0000-00-00\n",
      "ID: file21189, Original: now, DATE: 0000-00-00\n",
      "ID: file21392, Original: now, DATE: 0000-00-00\n",
      "ID: file22205, Original: now, DATE: 0000-00-00\n",
      "ID: file29985, Original: today, DATE: 0000-00-00\n",
      "ID: file30591, Original: today, DATE: 0000-00-00\n"
     ]
    }
   ],
   "source": [
    "#check the results of processed_test_label_dict\n",
    "for record_id in date_ids:\n",
    "    for label in processed_date_dict[record_id]:\n",
    "        if label[0] == 'DATE' and label[4]=='0000-00-00':\n",
    "            print(f\"ID: {record_id}, Original: {label[3]}, DATE: {label[4]}\")"
   ]
  },
  {
   "cell_type": "code",
   "execution_count": 22,
   "id": "9537f75f-91bb-457c-a569-d6f226e6d42f",
   "metadata": {
    "tags": []
   },
   "outputs": [],
   "source": [
    "## in validation dataset, today, previous, now and original are constants\n",
    "    # special_dates = {\n",
    "    #     \"today\": \"2062-09-13\",\n",
    "    #     \"previous\": \"2064-05-27\",\n",
    "    #     \"now\": \"2062-11-27\",\n",
    "    #     \"original\": \"2063-10-30\"\n",
    "    # }\n",
    "    \n",
    "# we need to fix it"
   ]
  },
  {
   "cell_type": "markdown",
   "id": "09c5442b-3e43-49aa-b2a1-9934aa39e090",
   "metadata": {},
   "source": [
    "# Check the TIME"
   ]
  },
  {
   "cell_type": "code",
   "execution_count": null,
   "metadata": {},
   "outputs": [],
   "source": [
    "\n",
    "def standardize_time(time_str):\n",
    "    \"\"\"\n",
    "    Standardize the format of time strings.\n",
    "\n",
    "    Parameters:\n",
    "    - time_str (str): The input time string.\n",
    "\n",
    "    Returns:\n",
    "    - str: The standardized time string in the format \"HH:MM\" or \"00:00\" if the input is invalid.\n",
    "\n",
    "    This function takes an input time string and standardizes its format. It handles various formats, including those with or without minutes, seconds, and AM/PM indicators. The resulting string is in the format \"HH:MM\" or \"00:00\" if the input is invalid.\n",
    "\n",
    "    \"\"\"\n",
    "\n",
    "    # check \"00:00:00\" it needs to fix\n",
    "    if time_str == \"00:00:00\":\n",
    "        return \"00:00:00\"\n",
    "    elif re.match(r'\\d{2}:\\d{2}:\\d{2}', time_str):\n",
    "        return time_str[:5] \n",
    "\n",
    "    # fix '.' to ':', 13.55-->13:55remove \n",
    "    time_str = re.sub(r'\\.', ':', time_str)\n",
    "    \n",
    "    # remove ' ', ' am'-->'am'\n",
    "    time_str = re.sub(r'[^\\d:apm]', '', time_str, flags=re.IGNORECASE)\n",
    "        \n",
    "    match = re.match(r'(\\d{1,2}):?(\\d{2})?([ap]m)?', time_str, re.IGNORECASE)\n",
    "    if match:\n",
    "        hour, minute, period = match.groups()\n",
    "        hour = int(hour)\n",
    "\n",
    "        minute = minute if minute else '00'\n",
    "\n",
    "        if period:\n",
    "            if period.lower() == 'pm' and hour < 12:\n",
    "                hour += 12\n",
    "            # elif period.lower() == 'am' and hour == 12:\n",
    "            #     hour = 0\n",
    "\n",
    "        return f\"{str(hour).zfill(2)}:{minute}\"\n",
    "    else:\n",
    "        \n",
    "        return time_str\n"
   ]
  },
  {
   "cell_type": "code",
   "execution_count": 23,
   "id": "da208f89-a163-4d62-a48e-580f21ea2d41",
   "metadata": {
    "tags": []
   },
   "outputs": [],
   "source": [
    "def standardize_datetime_format(datetime_str):\n",
    "    \"\"\"\n",
    "    Standardize the format of datetime strings.\n",
    "\n",
    "    Parameters:\n",
    "    - datetime_str (str): The input datetime string.\n",
    "\n",
    "    Returns:\n",
    "    - str: The standardized datetime string in the format \"YYYY-MM-DDTHH:MM\" or \"T00:00\" if date part is not present.\n",
    "\n",
    "\n",
    "    This function takes an input datetime string and standardizes its format. It handles various formats, including those with date and time, only date, or only time. The resulting string is in the format \"YYYY-MM-DDTHH:MM\" or \"T00:00\" if the date part is not present.\n",
    "\n",
    "    \"\"\"\n",
    "\n",
    "    date_part, time_part = '', ''\n",
    "    \n",
    "    # remove hours or hrs, and use : to tag time    \n",
    "    datetime_str = re.sub(r'(\\d{2})(\\d{2})\\s*(hours|hrs)', r'\\1:\\2', datetime_str, flags=re.IGNORECASE)\n",
    "    datetime_str = re.sub(r'(\\d{2})[.: -](\\d{2})\\s*(hours|hrs)', r'\\1:\\2', datetime_str, flags=re.IGNORECASE)\n",
    "\n",
    "    # 'a.m.'  'p.m.'  'am'  'pm'，\n",
    "    datetime_str = re.sub(r'a\\.m\\.', 'am', datetime_str, flags=re.IGNORECASE)\n",
    "    datetime_str = re.sub(r'p\\.m\\.', 'pm', datetime_str, flags=re.IGNORECASE)\n",
    "\n",
    "    # remove space of 'am' and 'pm'\n",
    "    datetime_str = re.sub(r'\\s+(am|pm)', r'\\1', datetime_str, flags=re.IGNORECASE)  \n",
    "    \n",
    "    # add space to 'at' and 'on' \n",
    "    datetime_str = datetime_str.replace('at', ' at ').replace('on', ' on ')\n",
    "    \n",
    "    #  solve \"11.25\" to 11:25\n",
    "    #datetime_str = re.sub(r'\\s(\\d{2})\\.(\\d{2})\\s', r' \\1:\\2 ', datetime_str)\n",
    "    datetime_str = re.sub(r'(^|\\s)(\\d{2})\\.(\\d{2})($|\\s)', r'\\1\\2:\\3\\4', datetime_str)\n",
    "\n",
    "    # solve 'art' to 'at'\n",
    "    datetime_str = re.sub(r'(^|\\s)([a-zA-Z])([a-zA-Z])([a-zA-Z])($|\\s)', \n",
    "                          lambda m: ' at ' if {'a', 't'}.issubset({m.group(2).lower(), m.group(3).lower(), m.group(4).lower()}) else m.group(0), \n",
    "                          datetime_str, flags=re.IGNORECASE)\n",
    "    \n",
    "    datetime_str = re.sub(r'(^|\\s)([a-zA-Z])([a-zA-Z])([a-zA-Z])($|\\s)', \n",
    "                          lambda m: ' on ' if {'o', 'n'}.issubset({m.group(2).lower(), m.group(3).lower(), m.group(4).lower()}) else m.group(0), \n",
    "                          datetime_str, flags=re.IGNORECASE)\n",
    "    # solve 'o' to 'on'\n",
    "    datetime_str = re.sub(r'\\s[aA]\\s', ' at ', datetime_str)\n",
    "    datetime_str = re.sub(r'\\s[oO]\\s', ' on ', datetime_str)\n",
    "    \n",
    "    datetime_str = datetime_str.replace(', ', ' ')\n",
    "    \n",
    "    # fix ' 1 '\n",
    "    datetime_str = re.sub(r'\\s\\d\\s', ' ', datetime_str)\n",
    "    \n",
    "    parts = datetime_str.split()\n",
    "\n",
    "    if len(parts) == 1:\n",
    "        # date\n",
    "        if ':' in parts[0] or 'am' in parts[0].lower() or 'pm' in parts[0].lower():\n",
    "            time_part = parts[0]\n",
    "        else:\n",
    "            date_part = parts[0]\n",
    "    elif len(parts) == 2:\n",
    "        # date time\n",
    "        if ':' in parts[0] or 'am' in parts[0].lower() or 'pm' in parts[0].lower():\n",
    "            time_part, date_part = parts\n",
    "        elif 'at' in parts[0]:\n",
    "            time_part = parts[1]\n",
    "        elif 'on' in parts[0]:\n",
    "            date_part = parts[1]\n",
    "        elif '.' in parts[1]:\n",
    "            time_part, date_part = parts\n",
    "        else:\n",
    "            date_part, time_part = parts\n",
    "    elif len(parts) == 3:\n",
    "        # date at time, time on date\n",
    "        if parts[1] == 'at' or parts[1] == '@':\n",
    "            if ':' in parts[0] or 'am' in parts[0].lower() or 'pm' in parts[0].lower():\n",
    "                time_part, date_part = parts[0], parts[2]\n",
    "            else:\n",
    "                date_part, time_part = parts[0], parts[2]\n",
    "        elif parts[0] == 'at':\n",
    "            if ':' in parts[1] or 'am' in parts[1].lower() or 'pm' in parts[1].lower():\n",
    "                time_part, date_part = parts[1], parts[2]\n",
    "            else:\n",
    "                date_part, time_part = parts[1], parts[2]                \n",
    "        elif parts[1] == 'on' or  parts[1] == 'and':\n",
    "            if ':' in parts[2] or 'am' in parts[2].lower() or 'pm' in parts[2].lower():\n",
    "                date_part, time_part = parts[0], parts[2]\n",
    "            else:\n",
    "                time_part, date_part = parts[0], parts[2]\n",
    "        elif ':' in parts[0] or 'am' in parts[0].lower() or 'pm' in parts[0].lower():\n",
    "            date_part = ' '.join(parts[1:])\n",
    "            time_part = ' '.join(parts[0])\n",
    "        elif ':' in parts[-1] or 'am' in parts[-1].lower() or 'pm' in parts[-1].lower():\n",
    "            date_part = ' '.join(parts[:-1])\n",
    "            time_part = ' '.join(parts[-1])\n",
    "               \n",
    "    elif len(parts) >= 4:\n",
    "        # at and on (at 3.36 pm on 04.08.13)\n",
    "        if 'at' in parts and 'on' in parts:\n",
    "            at_index = parts.index('at')\n",
    "            on_index = parts.index('on')\n",
    "            if at_index < on_index:\n",
    "                # 'at' front\n",
    "                time_part = ' '.join(parts[at_index + 1:on_index])\n",
    "                date_part = ' '.join(parts[on_index + 1:])\n",
    "            else:\n",
    "                # 'on' front\n",
    "                date_part = ' '.join(parts[on_index + 1:at_index])\n",
    "                time_part = ' '.join(parts[at_index + 1:])\n",
    "        elif 'on' in parts:\n",
    "            # only 'on'\n",
    "            on_index = parts.index('on')\n",
    "            after_on = ''.join(parts[on_index + 1:])  \n",
    "            before_on = ''.join(parts[:on_index])    \n",
    "\n",
    "            if any(x in parts[on_index - 1].lower() for x in [':', 'am', 'pm']):\n",
    "                time_part = ' '.join(parts[:on_index])\n",
    "                date_part = ' '.join(parts[on_index + 1:])\n",
    "                \n",
    "            elif after_on.isdigit() and len(after_on) == 4:\n",
    "                time_part = after_on\n",
    "                date_part = ' '.join(parts[:on_index])\n",
    "            elif before_on.isdigit() and len(before_on) == 4:\n",
    "                time_part = before_on\n",
    "                date_part = ' '.join(parts[on_index + 1:])\n",
    "            \n",
    "            else:\n",
    "                date_part = ' '.join(parts[:on_index])\n",
    "                time_part = ' '.join(parts[on_index + 1:])\n",
    "        elif 'at' in parts:\n",
    "            # only 'at'\n",
    "            at_index = parts.index('at')\n",
    "            after_at = ''.join(parts[at_index + 1:])  \n",
    "            before_at = ''.join(parts[:at_index])    \n",
    "            \n",
    "            if any(x in parts[at_index + 1].lower() for x in [':', 'am', 'pm']):\n",
    "                time_part = ' '.join(parts[at_index + 1:])\n",
    "                date_part = ' '.join(parts[:at_index])\n",
    "            elif after_at.isdigit() and len(after_at) == 4:\n",
    "                time_part = after_at\n",
    "                date_part = ' '.join(parts[:at_index])\n",
    "            elif before_at.isdigit() and len(before_at) == 4:\n",
    "                time_part = before_at\n",
    "                date_part = ' '.join(parts[at_index + 1:])            \n",
    "            else:\n",
    "                date_part = ' '.join(parts[at_index + 1:])\n",
    "                time_part = ' '.join(parts[:at_index])\n",
    "                \n",
    "        elif ':' in parts[0] or 'am' in parts[0].lower() or 'pm' in parts[0].lower():\n",
    "            date_part = ' '.join(parts[1:])\n",
    "            time_part = ' '.join(parts[0])\n",
    "        elif ':' in parts[-1] or 'am' in parts[-1].lower() or 'pm' in parts[-1].lower():\n",
    "            date_part = ' '.join(parts[:-1])\n",
    "            time_part = ' '.join(parts[-1])\n",
    "\n",
    "    if date_part != '':\n",
    "        standardized_date = standardize_date_format(date_part.strip())\n",
    "        standardized_time = standardize_time(time_part.strip()) if time_part else \"00:00\"\n",
    "        result = f\"{standardized_date}T{standardized_time}\"\n",
    "    else:\n",
    "        standardized_time = standardize_time(time_part.strip()) if time_part else \"00:00\"\n",
    "        result = f\"T{standardized_time}\"\n",
    "        \n",
    "    return result\n"
   ]
  },
  {
   "cell_type": "code",
   "execution_count": 25,
   "id": "e91577c0-549d-42df-a45b-fbf632c75174",
   "metadata": {
    "tags": []
   },
   "outputs": [
    {
     "name": "stdout",
     "output_type": "stream",
     "text": [
      "2013-12-16T13:00\n",
      "T16:35\n"
     ]
    }
   ],
   "source": [
    "print(standardize_datetime_format(\"1300 hours on the 16th of December 2013\"))\n",
    "print(standardize_datetime_format(\"4.35pm\"))"
   ]
  },
  {
   "cell_type": "code",
   "execution_count": 26,
   "id": "9dda03c4-908c-4d7e-9d26-f0629a3c52a2",
   "metadata": {
    "tags": []
   },
   "outputs": [],
   "source": [
    "def normalize_time_labels_for_records(record_ids, label_dict):\n",
    "    normalized_results = {}\n",
    "    for record_id in record_ids:\n",
    "        if record_id in label_dict:\n",
    "            normalized_labels = []\n",
    "            for label in label_dict[record_id]:\n",
    "                if label[0] == 'TIME':\n",
    "                    formatted_date = standardize_datetime_format(label[3])\n",
    "                    normalized_label = label[:3] + [label[3], formatted_date]\n",
    "                    normalized_labels.append(normalized_label)\n",
    "                else:\n",
    "                    normalized_labels.append(label)  \n",
    "            normalized_results[record_id] = normalized_labels\n",
    "    return normalized_results"
   ]
  },
  {
   "cell_type": "code",
   "execution_count": 27,
   "id": "9ecd5730-568f-41b5-95b4-f73255b5b72d",
   "metadata": {
    "tags": []
   },
   "outputs": [],
   "source": [
    "record_ids = test_label_dict.keys()"
   ]
  },
  {
   "cell_type": "code",
   "execution_count": 28,
   "id": "b2f5732f-ba63-42bc-8dee-794f104ddfcc",
   "metadata": {
    "tags": []
   },
   "outputs": [],
   "source": [
    "#print(record_ids)"
   ]
  },
  {
   "cell_type": "code",
   "execution_count": 29,
   "id": "2246ca0f-5302-4bb1-999b-742e1c3b4f09",
   "metadata": {
    "tags": []
   },
   "outputs": [],
   "source": [
    "processed_time_dict = normalize_time_labels_for_records(record_ids, test_label_dict)"
   ]
  },
  {
   "cell_type": "code",
   "execution_count": 33,
   "id": "8ef39611-482d-4cc1-9c73-806fb8213c74",
   "metadata": {
    "tags": []
   },
   "outputs": [],
   "source": [
    "# # #check time result\n",
    "# for record_id, labels in processed_time_dict.items():\n",
    "#     for label in labels:\n",
    "#         if label[0] == 'TIME':\n",
    "#             print(f\"ID: {record_id}, Original: {label[3]}, TIME: {label[4]}\")"
   ]
  },
  {
   "cell_type": "code",
   "execution_count": null,
   "id": "4745ac50-fa13-4c43-9dc8-d9889d807a55",
   "metadata": {},
   "outputs": [],
   "source": []
  },
  {
   "cell_type": "markdown",
   "id": "189af8ff-4f1c-40fc-9000-f1d2d96a24e4",
   "metadata": {},
   "source": [
    "# Process all labels for Task 2"
   ]
  },
  {
   "cell_type": "code",
   "execution_count": 34,
   "id": "f7fc8619-672a-4d7d-9b0d-d503def843be",
   "metadata": {
    "tags": []
   },
   "outputs": [],
   "source": [
    "def process_all_labels(label_dict):\n",
    "    \"\"\"\n",
    "    Process and normalize all labels in the given label dictionary.\n",
    "\n",
    "    Parameters:\n",
    "    - label_dict (dict): A dictionary containing label information for multiple records.\n",
    "\n",
    "    Returns:\n",
    "    - dict: A dictionary containing processed and normalized label information.\n",
    "\n",
    "    This function takes a dictionary of label information for multiple records and processes all labels, normalizing them based on their types (DURATION, SET, DATE, TIME). The resulting dictionary contains the processed and normalized label information for each record.\n",
    "\n",
    "    \"\"\"\n",
    "\n",
    "    processed_label_dict = {}\n",
    "\n",
    "    special_dates = {\n",
    "        \"today\": \"2062-09-13\",\n",
    "        \"previous\": \"2064-05-27\",\n",
    "        \"now\": \"2062-11-27\",\n",
    "        \"original\": \"2063-10-30\"\n",
    "    }\n",
    "    \n",
    "    for record_id, labels in label_dict.items():\n",
    "        processed_labels = []\n",
    "        for label in labels:\n",
    "            label_type = label[0]\n",
    "            original_text = label[3]\n",
    "            normalized_label = None\n",
    "\n",
    "            if label_type == 'DURATION':\n",
    "                normalized_label = normalize_duration(original_text)\n",
    "                \n",
    "            elif label_type == 'SET':\n",
    "                normalized_label = normalize_set_label(original_text)\n",
    "                \n",
    "            elif label_type == 'DATE':\n",
    "                if original_text in special_dates:                    \n",
    "                    normalized_label = special_dates[original_text]\n",
    "                else:\n",
    "                    normalized_label = standardize_date_format(original_text)\n",
    "                    \n",
    "            elif label_type == 'TIME':\n",
    "                normalized_label = standardize_datetime_format(original_text)\n",
    "\n",
    "            if label_type in ['DURATION','SET','DATE','TIME']:\n",
    "                processed_label = label[:3] + [original_text, normalized_label]\n",
    "            else:\n",
    "                processed_label = label\n",
    "\n",
    "            processed_labels.append(processed_label)\n",
    "\n",
    "        processed_label_dict[record_id] = processed_labels\n",
    "\n",
    "    return processed_label_dict"
   ]
  },
  {
   "cell_type": "code",
   "execution_count": 35,
   "id": "e897ce9b-b1bf-4db3-a34d-64a277a5ab88",
   "metadata": {
    "tags": []
   },
   "outputs": [],
   "source": [
    "# do it all\n",
    "processed_test_label_dict = process_all_labels(test_label_dict)"
   ]
  },
  {
   "cell_type": "code",
   "execution_count": 36,
   "id": "fe4c28d7-b1a4-486c-9481-64cef3ec0d6f",
   "metadata": {
    "tags": []
   },
   "outputs": [
    {
     "name": "stdout",
     "output_type": "stream",
     "text": [
      "ID: 1032, Original: Now, DATE: 0000-00-00\n",
      "ID: 1057, Original: ED, DATE: 0000-00-00\n",
      "ID: 250, Original: 26th of November, DATE: 0000-00-00\n",
      "ID: 591, Original: 69, DATE: 0000-00-00\n",
      "ID: 689, Original: Now, DATE: 0000-00-00\n",
      "ID: 751, Original: 3, DATE: 0000-00-00\n",
      "ID: 751, Original: 52, DATE: 0000-00-00\n",
      "ID: 768, Original: originally, DATE: 0000-00-00\n",
      "ID: 893, Original: LV, DATE: 0000-00-00\n",
      "ID: file20864, Original: REC, DATE: 0000-00-00\n"
     ]
    }
   ],
   "source": [
    "#double check \n",
    "for record_id in processed_test_label_dict.keys():\n",
    "    for label in processed_test_label_dict[record_id]:\n",
    "        if label[0] == 'DATE' and label[4]=='0000-00-00':\n",
    "            print(f\"ID: {record_id}, Original: {label[3]}, DATE: {label[4]}\")"
   ]
  },
  {
   "cell_type": "code",
   "execution_count": 37,
   "id": "ef952b5e-afe4-4657-b027-8253c8437961",
   "metadata": {
    "tags": []
   },
   "outputs": [],
   "source": [
    "#double check \n",
    "for record_id in processed_test_label_dict.keys():\n",
    "    for label in processed_test_label_dict[record_id]:\n",
    "        if label[0] == 'SET':\n",
    "            print(f\"ID: {record_id}, Original: {label[3]}, SET: {label[4]}\")"
   ]
  },
  {
   "cell_type": "code",
   "execution_count": 38,
   "id": "19a5f7a3-1f11-4a02-bb62-38920ecf9939",
   "metadata": {
    "tags": []
   },
   "outputs": [
    {
     "name": "stdout",
     "output_type": "stream",
     "text": [
      "ID: 1023, Original: 2 years, DURATION: P2Y\n",
      "ID: 1029, Original: 18/12, DURATION: <unknown>\n",
      "ID: 1055, Original: several years, DURATION: <unknown>\n",
      "ID: 180, Original: 2 years, DURATION: P2Y\n",
      "ID: 689, Original: 18 months, DURATION: P18M\n",
      "ID: 887, Original: Now 4-5 month, DURATION: P4.5M\n",
      "ID: 894, Original: 16 yr, DURATION: P16Y\n",
      "ID: file30591, Original: 6 weeks, DURATION: P6W\n"
     ]
    }
   ],
   "source": [
    "#double check \n",
    "for record_id in processed_test_label_dict.keys():\n",
    "    for label in processed_test_label_dict[record_id]:\n",
    "        if label[0] == 'DURATION':\n",
    "            print(f\"ID: {record_id}, Original: {label[3]}, DURATION: {label[4]}\")"
   ]
  },
  {
   "cell_type": "code",
   "execution_count": 39,
   "id": "28e8ec09-4a37-4dc6-81e9-4c1c341f93cd",
   "metadata": {
    "tags": []
   },
   "outputs": [],
   "source": [
    "# #double check \n",
    "# for record_id in processed_test_label_dict.keys():\n",
    "#     for label in processed_test_label_dict[record_id]:\n",
    "#         if label[0] == 'TIME':\n",
    "#             print(f\"ID: {record_id}, Original: {label[3]}, TIME: {label[4]}\")"
   ]
  },
  {
   "cell_type": "markdown",
   "id": "c555dff9-a54e-429f-9d90-9c8efad56009",
   "metadata": {
    "tags": []
   },
   "source": [
    "# Write output answer file"
   ]
  },
  {
   "cell_type": "code",
   "execution_count": 40,
   "id": "0c718383-e377-4984-892a-ff7e4686f4ec",
   "metadata": {
    "tags": []
   },
   "outputs": [],
   "source": [
    "def write_processed_labels_to_file(processed_label_dict, output_path):\n",
    "    with open(output_path, \"w\", encoding=\"utf-8\") as f:\n",
    "        for sample_id, labels in processed_label_dict.items():\n",
    "            for label in labels:\n",
    "                output_line = f\"{sample_id}\\t{label[0]}\\t{label[1]}\\t{label[2]}\\t{label[3]}\"\n",
    "\n",
    "                if len(label) > 4:\n",
    "                    output_line += f\"\\t{label[4]}\"\n",
    "\n",
    "                output_line += \"\\n\"\n",
    "                f.write(output_line)\n",
    "\n"
   ]
  },
  {
   "cell_type": "code",
   "execution_count": 41,
   "id": "2d149ee4-8863-4094-9a78-eaa697991b8e",
   "metadata": {
    "tags": []
   },
   "outputs": [],
   "source": [
    "\n",
    "output_path = \"./submission/final_answer.txt\"\n",
    "\n",
    "write_processed_labels_to_file(processed_test_label_dict, output_path)"
   ]
  },
  {
   "cell_type": "code",
   "execution_count": null,
   "id": "814e84b4-8cdb-493a-9096-7bb9d919eea9",
   "metadata": {},
   "outputs": [],
   "source": []
  }
 ],
 "metadata": {
  "kernelspec": {
   "display_name": "Python 3 (ipykernel)",
   "language": "python",
   "name": "python3"
  },
  "language_info": {
   "codemirror_mode": {
    "name": "ipython",
    "version": 3
   },
   "file_extension": ".py",
   "mimetype": "text/x-python",
   "name": "python",
   "nbconvert_exporter": "python",
   "pygments_lexer": "ipython3",
   "version": "3.11.5"
  }
 },
 "nbformat": 4,
 "nbformat_minor": 5
}
