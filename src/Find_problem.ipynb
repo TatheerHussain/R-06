{
 "cells": [
  {
   "cell_type": "markdown",
   "metadata": {},
   "source": [
    "# Libraries Installation"
   ]
  },
  {
   "cell_type": "code",
   "execution_count": null,
   "metadata": {},
   "outputs": [],
   "source": [
    "%pip install -r ../requirements.txt"
   ]
  },
  {
   "cell_type": "markdown",
   "metadata": {},
   "source": [
    "# Import Libraries"
   ]
  },
  {
   "cell_type": "code",
   "execution_count": 1,
   "id": "3350af1f",
   "metadata": {},
   "outputs": [
    {
     "name": "stderr",
     "output_type": "stream",
     "text": [
      "/usr/local/lib/python3.10/dist-packages/tqdm/auto.py:21: TqdmWarning: IProgress not found. Please update jupyter and ipywidgets. See https://ipywidgets.readthedocs.io/en/stable/user_install.html\n",
      "  from .autonotebook import tqdm as notebook_tqdm\n"
     ]
    }
   ],
   "source": [
    "# library\n",
    "import os\n",
    "\n",
    "import torch\n",
    "from torch import nn\n",
    "from transformers import LongformerTokenizer, AutoTokenizer"
   ]
  },
  {
   "cell_type": "code",
   "execution_count": 2,
   "id": "39503fbe",
   "metadata": {},
   "outputs": [],
   "source": [
    "\n",
    "test_dataset_doc_parh = \"./dataset/validation_dataset/Validation_Release/\"\n",
    "\n",
    "test_path = [test_dataset_doc_parh + file_path for file_path in os.listdir(test_dataset_doc_parh)]\n"
   ]
  },
  {
   "cell_type": "code",
   "execution_count": 3,
   "id": "bc99f8bf",
   "metadata": {},
   "outputs": [],
   "source": [
    "def load_medical_records(paths):\n",
    "    medical_record_dict = {}\n",
    "    for data_path in paths:\n",
    "\n",
    "        if os.path.isfile(data_path):\n",
    "            file_id = data_path.split(\"/\")[-1].split(\".txt\")[0]\n",
    "            with open(data_path, \"r\", encoding=\"utf-8\") as f:\n",
    "                file_text = f.read()\n",
    "                medical_record_dict[file_id] = file_text\n",
    "    return medical_record_dict\n",
    "\n",
    "test_record_dict = load_medical_records(test_path)"
   ]
  },
  {
   "cell_type": "code",
   "execution_count": 4,
   "id": "e5ecff89",
   "metadata": {},
   "outputs": [
    {
     "name": "stdout",
     "output_type": "stream",
     "text": [
      "560\n"
     ]
    }
   ],
   "source": [
    "# double check\n",
    "print(len(list(test_record_dict.keys())))"
   ]
  },
  {
   "cell_type": "code",
   "execution_count": 5,
   "id": "17a11ebd",
   "metadata": {},
   "outputs": [
    {
     "name": "stdout",
     "output_type": "stream",
     "text": [
      "{'OTHER': 0, 'PATIENT': 1, 'DOCTOR': 2, 'CITY': 3, 'ROOM': 4, 'STREET': 5, 'MEDICALRECORD': 6, 'DEPARTMENT': 7, 'LOCATION-OTHER': 8, 'COUNTRY': 9, 'IDNUM': 10, 'STATE': 11, 'AGE': 12, 'SET': 13, 'HOSPITAL': 14, 'DATE': 15, 'ZIP': 16, 'URL': 17, 'DURATION': 18, 'ORGANIZATION': 19, 'TIME': 20, 'PHONE': 21}\n"
     ]
    }
   ],
   "source": [
    "# fix label_type\n",
    "labels_type_table={'OTHER': 0, 'PATIENT': 1, 'DOCTOR': 2, 'CITY': 3, 'ROOM': 4, 'STREET': 5, 'MEDICALRECORD': 6, 'DEPARTMENT': 7, 'LOCATION-OTHER': 8, 'COUNTRY': 9, 'IDNUM': 10, 'STATE': 11, 'AGE': 12, 'SET': 13, 'HOSPITAL': 14, 'DATE': 15, 'ZIP': 16, 'URL': 17, 'DURATION': 18, 'ORGANIZATION': 19, 'TIME': 20, 'PHONE': 21}\n",
    "print(labels_type_table)"
   ]
  },
  {
   "cell_type": "code",
   "execution_count": 6,
   "id": "5f9a624d",
   "metadata": {},
   "outputs": [],
   "source": [
    "def create_label_dict(label_path):\n",
    "    label_dict = {}  # y\n",
    "    with open(label_path, \"r\", encoding=\"utf-8-sig\") as f:\n",
    "        file_text = f.read().strip()  \n",
    "\n",
    "    # (id, label, start, end, query) or (id, label, start, end, query, time_org, timefix)\n",
    "    for line in file_text.split(\"\\n\"):\n",
    "        sample = line.split(\"\\t\")  \n",
    "        sample[2], sample[3] = int(sample[2]), int(sample[3])\n",
    "\n",
    "        if sample[0] not in label_dict:\n",
    "            label_dict[sample[0]] = [sample[1:]]\n",
    "        else:\n",
    "            label_dict[sample[0]].append(sample[1:])\n",
    "\n",
    "    return label_dict"
   ]
  },
  {
   "cell_type": "code",
   "execution_count": 7,
   "id": "de9fcc54",
   "metadata": {},
   "outputs": [],
   "source": [
    "val_label_path = \"./dataset/validation_dataset/answer.txt\"\n",
    "ground_truth = create_label_dict(val_label_path)"
   ]
  },
  {
   "cell_type": "markdown",
   "id": "a15f2081",
   "metadata": {},
   "source": [
    "# Predict"
   ]
  },
  {
   "cell_type": "code",
   "execution_count": 9,
   "id": "d4d0d02d",
   "metadata": {},
   "outputs": [],
   "source": [
    "from transformers import LongformerModel\n",
    "from torchcrf import CRF\n",
    "\n",
    "class MyLongformerModel(nn.Module):\n",
    "    def __init__(self, num_labels):\n",
    "        super(MyLongformerModel, self).__init__()\n",
    "\n",
    "        self.longformer = LongformerModel.from_pretrained('allenai/longformer-base-4096')\n",
    "        self.dropout = nn.Dropout(p=0.1)\n",
    "        self.classifier = nn.Linear(768, num_labels)\n",
    "        self.crf = CRF(num_labels, batch_first=True)\n",
    "\n",
    "    def forward(self, input_ids, attention_mask, labels=None):\n",
    "        outputs = self.longformer(input_ids=input_ids, attention_mask=attention_mask, return_dict=True)\n",
    "        sequence_output = self.dropout(outputs.last_hidden_state)\n",
    "        logits = self.classifier(sequence_output)\n",
    "\n",
    "        if labels is not None:\n",
    "            loss = -self.crf(logits, labels, mask=attention_mask.byte())\n",
    "            return loss\n",
    "        else:\n",
    "            return self.crf.decode(logits, mask=attention_mask.byte())\n",
    "\n",
    "model = MyLongformerModel(num_labels=22)\n"
   ]
  },
  {
   "cell_type": "code",
   "execution_count": 10,
   "id": "bcbe73d6",
   "metadata": {},
   "outputs": [
    {
     "data": {
      "text/plain": [
       "<All keys matched successfully>"
      ]
     },
     "execution_count": 10,
     "metadata": {},
     "output_type": "execute_result"
    }
   ],
   "source": [
    "\n",
    "model_path = './model/longformer-crf_43_13_0.9842817215780284'\n",
    "model.load_state_dict(torch.load(model_path, map_location=torch.device('cuda')))\n",
    "\n",
    "\n"
   ]
  },
  {
   "cell_type": "code",
   "execution_count": 11,
   "id": "768f85ca",
   "metadata": {},
   "outputs": [],
   "source": [
    "model_name = \"allenai/longformer-base-4096\"\n",
    "tokenizer = AutoTokenizer.from_pretrained(model_name, use_fast=True)"
   ]
  },
  {
   "cell_type": "code",
   "execution_count": 12,
   "id": "801d031d",
   "metadata": {},
   "outputs": [],
   "source": [
    "def decode_model_result(model_predict_list, offsets_mapping, labels_type_table):\n",
    "    \"\"\"\n",
    "    Decode the model predictions into a list of labeled segments.\n",
    "\n",
    "    Parameters:\n",
    "    - model_predict_list (list): List of predicted labels from the model.\n",
    "    - offsets_mapping (list): List of offset mappings for the predicted labels.\n",
    "    - labels_type_table (dict): Dictionary mapping label IDs to label names.\n",
    "\n",
    "    Returns:\n",
    "    - list: List of labeled segments, where each segment is represented as (label, start, end).\n",
    "    \"\"\"\n",
    "\n",
    "    id_to_label = {id: label for label, id in labels_type_table.items()}\n",
    "    predict_y = []\n",
    "    pre_label_id = 0\n",
    "\n",
    "    for position_id, label_id in enumerate(model_predict_list):\n",
    "        if label_id != 0:\n",
    "            if pre_label_id != label_id:\n",
    "                start = int(offsets_mapping[position_id][0])\n",
    "            end = int(offsets_mapping[position_id][1])\n",
    "\n",
    "        if pre_label_id != label_id and pre_label_id != 0:\n",
    "            predict_y.append([id_to_label[pre_label_id], start, end])\n",
    "        pre_label_id = label_id\n",
    "\n",
    "    if pre_label_id != 0:\n",
    "        predict_y.append([id_to_label[pre_label_id], start, end])\n",
    "\n",
    "    return predict_y\n",
    "\n",
    "\n",
    "def merge_overlapping_predictions(predictions):\n",
    "    \"\"\"\n",
    "    Merge overlapping labeled segments in a list.\n",
    "\n",
    "    Parameters:\n",
    "    - predictions (list): List of labeled segments, where each segment is represented as (label, start, end).\n",
    "\n",
    "    Returns:\n",
    "    - list: List of merged labeled segments after resolving overlaps.\n",
    "    \"\"\"\n",
    "    if not predictions:\n",
    "        return []\n",
    "\n",
    "    sorted_predictions = sorted(predictions, key=lambda x: x[1])\n",
    "\n",
    "    merged_predictions = [sorted_predictions[0]]\n",
    "    for current in sorted_predictions[1:]:\n",
    "        last = merged_predictions[-1]\n",
    "        if current[0] == last[0] and current[1] <= last[2]:\n",
    "            merged_predictions[-1] = (last[0], last[1], max(last[2], current[2]))\n",
    "        else:\n",
    "            merged_predictions.append(current)\n",
    "\n",
    "    return merged_predictions\n",
    "\n",
    "\n",
    "def predict_text_segments(model, tokenizer, text, max_length, overlap, device):\n",
    "    \"\"\"\n",
    "    Predict labeled segments in a given text using the model.\n",
    "\n",
    "    Parameters:\n",
    "    - model: The trained model for prediction.\n",
    "    - tokenizer: Tokenizer for processing the input text.\n",
    "    - text (str): The input text to be processed.\n",
    "    - max_length (int): Maximum length of text segments for prediction.\n",
    "    - overlap (int): Overlapping length between consecutive text segments.\n",
    "    - device: Device to run the model on.\n",
    "\n",
    "    Returns:\n",
    "    - list: List of predicted labeled segments, where each segment is represented as (label, start, end).\n",
    "    \"\"\"\n",
    "    all_predictions = []\n",
    "    offset = 0\n",
    "\n",
    "    for i in range(0, len(text), max_length - overlap):\n",
    "        segment = text[i:i+max_length]\n",
    "        encodings = tokenizer(segment, padding=True, truncation=True, return_tensors=\"pt\", return_offsets_mapping=True)\n",
    "        encodings[\"input_ids\"] = encodings[\"input_ids\"].to(device)\n",
    "        encodings[\"attention_mask\"] = encodings[\"attention_mask\"].to(device)\n",
    "\n",
    "        with torch.no_grad():\n",
    "            outputs = model(encodings[\"input_ids\"], encodings[\"attention_mask\"])\n",
    "            model_predict_list = outputs[0]  \n",
    "            predictions = decode_model_result(model_predict_list, encodings[\"offset_mapping\"][0], labels_type_table)\n",
    "\n",
    "        adjusted_predictions = [(label, start+offset, end+offset) for label, start, end in predictions]\n",
    "        all_predictions.extend(adjusted_predictions)\n",
    "        offset = i + max_length - overlap\n",
    "\n",
    "    return all_predictions\n"
   ]
  },
  {
   "cell_type": "code",
   "execution_count": 13,
   "id": "a61208d3",
   "metadata": {},
   "outputs": [],
   "source": [
    "def post_processing(label_name, start, end, text_segment):\n",
    "    \"\"\"\n",
    "    Perform post-processing on labeled segments to refine label information.\n",
    "\n",
    "    Parameters:\n",
    "    - label_name (str): The predicted label for the segment.\n",
    "    - start (int): Start position of the labeled segment.\n",
    "    - end (int): End position of the labeled segment.\n",
    "    - text_segment (str): The actual text content of the segment.\n",
    "\n",
    "    Returns:\n",
    "    - tuple: Processed label, refined start position, refined end position, and updated text content.\n",
    "    \"\"\"\n",
    "    processed_label = label_name.strip()\n",
    "\n",
    "    if processed_label.endswith('-') or processed_label.endswith('\"') or processed_label.endswith(\"'\"):\n",
    "        processed_label = processed_label[:-1]\n",
    "        end -= 1\n",
    "\n",
    "    if processed_label == 'DATE' and text_segment.isdigit() and len(text_segment) > 8:\n",
    "        end = start + 8\n",
    "        text_segment = text_segment[:8]\n",
    "\n",
    "    if processed_label == 'STATE':\n",
    "        if text_segment.endswith('TAS'):\n",
    "            text_segment = 'TAS'\n",
    "            start = end - 3\n",
    "        elif (len(text_segment) >= 3):\n",
    "            if text_segment[0].isupper() and text_segment[1].isupper() and text_segment[2].islower():\n",
    "                if len(text_segment) == 3:\n",
    "                    text_segment = text_segment[:2]\n",
    "                    end -= 1\n",
    "                else:\n",
    "                    text_segment = text_segment[1:]\n",
    "                    start += 1\n",
    "\n",
    "    if processed_label == 'CITY':\n",
    "        if any(text_segment.endswith(suffix) for suffix in ['ONT', 'LET', 'NET', 'LAT']):\n",
    "            end -= 1\n",
    "        elif any(text_segment.endswith(suffix) for suffix in ['RAS', 'CHS', 'LES']):\n",
    "            end -= 1\n",
    "\n",
    "    return processed_label, start, end, text_segment\n"
   ]
  },
  {
   "cell_type": "code",
   "execution_count": 14,
   "id": "5442762e",
   "metadata": {},
   "outputs": [],
   "source": [
    "def merge_continuous_time_labels(predictions):\n",
    "    \"\"\"\n",
    "    Merge continuous time labels that are adjacent in predictions.\n",
    "\n",
    "    Parameters:\n",
    "    - predictions (list of tuples): List of predictions with each tuple containing label name, start position,\n",
    "      end position, and predicted text content.\n",
    "\n",
    "    Returns:\n",
    "    - list of tuples: Merged predictions where continuous time labels are combined into a single prediction.\n",
    "    \"\"\"\n",
    "    merged_predictions = []\n",
    "    prev_label = None\n",
    "\n",
    "    for label_name, start, end, predict_str in predictions:\n",
    "        if label_name == 'TIME' and prev_label and prev_label['label_name'] == 'TIME':\n",
    "            if prev_label['end'] + 1 == start:\n",
    "                prev_label['predict_str'] += ' ' + predict_str\n",
    "                prev_label['end'] = end\n",
    "                continue\n",
    "\n",
    "        if prev_label:\n",
    "            merged_predictions.append((prev_label['label_name'], prev_label['start'], prev_label['end'], prev_label['predict_str']))\n",
    "\n",
    "        prev_label = {'label_name': label_name, 'start': start, 'end': end, 'predict_str': predict_str}\n",
    "\n",
    "    if prev_label:\n",
    "        merged_predictions.append((prev_label['label_name'], prev_label['start'], prev_label['end'], prev_label['predict_str']))\n",
    "\n",
    "    return merged_predictions\n"
   ]
  },
  {
   "cell_type": "code",
   "execution_count": 15,
   "id": "9eb1791c",
   "metadata": {},
   "outputs": [],
   "source": [
    "def predict_for_single_sample(model, tokenizer, sample_id, val_medical_record_dict, device, max_length=4096, overlap=512):\n",
    "    \"\"\"\n",
    "    Predict labels for a single medical record sample.\n",
    "\n",
    "    Parameters:\n",
    "    - model (torch.nn.Module): The trained model for making predictions.\n",
    "    - tokenizer: The tokenizer used for encoding the input text.\n",
    "    - sample_id (str): Identifier for the medical record sample.\n",
    "    - val_medical_record_dict (dict): Dictionary containing medical record samples with sample_id as keys and text as values.\n",
    "    - device: Device (e.g., 'cuda' or 'cpu') on which the model should run.\n",
    "    - max_length (int): Maximum length for each text segment during prediction.\n",
    "    - overlap (int): Overlap size between consecutive text segments during prediction.\n",
    "\n",
    "    Returns:\n",
    "    - str: String containing the predicted labels in the required format for the given medical record sample.\n",
    "    \"\"\"\n",
    "    output_string = \"\"\n",
    "    sample_text = val_medical_record_dict[sample_id]\n",
    "    predictions = predict_text_segments(model, tokenizer, sample_text, max_length, overlap, device)\n",
    "    final_predictions = merge_overlapping_predictions(predictions)\n",
    "\n",
    "    extended_predictions = [(label_name, start, end, sample_text[start:end]) for label_name, start, end in final_predictions]\n",
    "\n",
    "    merged_predictions = merge_continuous_time_labels(extended_predictions)\n",
    "\n",
    "    for label_name, start, end, predict_str in merged_predictions:\n",
    "        label_name, start, end, predict_str = post_processing(label_name, start, end, predict_str)\n",
    "        sample_result_str = f\"{sample_id}\\t{label_name}\\t{start}\\t{end}\\t{predict_str}\\n\"\n",
    "        output_string += sample_result_str\n",
    "\n",
    "    return output_string\n"
   ]
  },
  {
   "cell_type": "code",
   "execution_count": 16,
   "id": "87c650ac",
   "metadata": {},
   "outputs": [],
   "source": [
    "device = torch.device('cuda') if torch.cuda.is_available() else torch.device('cpu')\n",
    "model = model.to(device)"
   ]
  },
  {
   "cell_type": "code",
   "execution_count": 17,
   "id": "d3e7f1c0",
   "metadata": {},
   "outputs": [
    {
     "name": "stderr",
     "output_type": "stream",
     "text": [
      "/usr/local/lib/python3.10/dist-packages/torchcrf/__init__.py:305: UserWarning: where received a uint8 condition tensor. This behavior is deprecated and will be removed in a future version of PyTorch. Use a boolean condition instead. (Triggered internally at /opt/pytorch/pytorch/aten/src/ATen/native/TensorCompare.cpp:519.)\n",
      "  score = torch.where(mask[i].unsqueeze(1), next_score, score)\n"
     ]
    },
    {
     "name": "stdout",
     "output_type": "stream",
     "text": [
      "file5124\tDATE\t12\t20\t20150830\n",
      "file5124\tHOSPITAL\t36\t58\tCOBRAM DISTRICT HEALTH\n",
      "file5124\tPATIENT\t71\t76\tCorle\n",
      "file5124\tIDNUM\t85\t95\t22N444639B\n",
      "file5124\tMEDICALRECORD\t102\t109\t2254446\n",
      "file5124\tAGE\t247\t249\t79\n",
      "file5124\tDOCTOR\t892\t902\tF Koudelka\n",
      "file5124\tDOCTOR\t1362\t1374\tF Wiltberger\n",
      "file5124\tDOCTOR\t1988\t1996\tF Musich\n",
      "file5124\tDOCTOR\t4180\t4187\tF Comee\n",
      "file5124\tDOCTOR\t4570\t4582\tF Blachowski\n",
      "file5124\tDATE\t4638\t4644\t2/6/72\n",
      "file5124\tDOCTOR\t4676\t4683\tF Itani\n",
      "file5124\tDATE\t7618\t7626\t8/6/2071\n",
      "file5124\tTIME\t7888\t7907\t2846-12-08 00:00:00\n",
      "file5124\tPATIENT\t7919\t7926\tEndsley\n",
      "\n"
     ]
    }
   ],
   "source": [
    "# test for one sample\n",
    "sample_id = \"file5124\"  \n",
    "print(predict_for_single_sample(model, tokenizer, sample_id, test_record_dict, device))"
   ]
  },
  {
   "cell_type": "code",
   "execution_count": 18,
   "id": "b5e35bae",
   "metadata": {},
   "outputs": [],
   "source": [
    "def predict_for_entire_dataset(model, tokenizer, val_medical_record_dict, device, max_length=4096, overlap=512):\n",
    "    \"\"\"\n",
    "    Predict labels for an entire dataset of medical record samples.\n",
    "\n",
    "    Parameters:\n",
    "    - model (torch.nn.Module): The trained model for making predictions.\n",
    "    - tokenizer: The tokenizer used for encoding the input text.\n",
    "    - val_medical_record_dict (dict): Dictionary containing medical record samples with sample_id as keys and text as values.\n",
    "    - device: Device (e.g., 'cuda' or 'cpu') on which the model should run.\n",
    "    - max_length (int): Maximum length for each text segment during prediction.\n",
    "    - overlap (int): Overlap size between consecutive text segments during prediction.\n",
    "\n",
    "    Returns:\n",
    "    - str: String containing the predicted labels for the entire dataset in the required format.\n",
    "    \"\"\"\n",
    "    output_string = \"\"\n",
    "    for sample_id, sample_text in val_medical_record_dict.items():\n",
    "        predictions = predict_text_segments(model, tokenizer, sample_text, max_length, overlap, device)\n",
    "        final_predictions = merge_overlapping_predictions(predictions)\n",
    "\n",
    "        extended_predictions = [(label_name, start, end, sample_text[start:end]) for label_name, start, end in final_predictions]\n",
    "\n",
    "        merged_predictions = merge_continuous_time_labels(extended_predictions)\n",
    "\n",
    "        for label_name, start, end, predict_str in merged_predictions:\n",
    "            label_name, start, end, predict_str = post_processing(label_name, start, end, predict_str)\n",
    "            sample_result_str = f\"{sample_id}\\t{label_name}\\t{start}\\t{end}\\t{predict_str}\\n\"\n",
    "            output_string += sample_result_str\n",
    "\n",
    "    return output_string\n"
   ]
  },
  {
   "cell_type": "code",
   "execution_count": null,
   "id": "3940adf9",
   "metadata": {},
   "outputs": [],
   "source": [
    "output_string = predict_for_entire_dataset(model, tokenizer, test_record_dict, device)"
   ]
  },
  {
   "cell_type": "code",
   "execution_count": null,
   "id": "aacc6c0e",
   "metadata": {},
   "outputs": [],
   "source": []
  },
  {
   "cell_type": "code",
   "execution_count": null,
   "id": "4b5afa3a",
   "metadata": {},
   "outputs": [],
   "source": [
    "file_text = output_string"
   ]
  },
  {
   "cell_type": "code",
   "execution_count": null,
   "id": "43314762",
   "metadata": {},
   "outputs": [],
   "source": [
    "predict = {}\n",
    "for line in file_text.split(\"\\n\"):\n",
    "    if (line):\n",
    "        sample = line.split(\"\\t\") \n",
    "        sample[2], sample[3] = int(sample[2]), int(sample[3])\n",
    "\n",
    "        if sample[0] not in predict:\n",
    "             predict[sample[0]] = [sample[1:]]\n",
    "        else:\n",
    "            predict[sample[0]].append(sample[1:])"
   ]
  },
  {
   "cell_type": "code",
   "execution_count": null,
   "id": "f7a3a1ed",
   "metadata": {},
   "outputs": [],
   "source": []
  },
  {
   "cell_type": "code",
   "execution_count": null,
   "id": "80631b8c",
   "metadata": {},
   "outputs": [],
   "source": [
    "def compare_ner(ground_truth, predictions, category):\n",
    "    \"\"\"\n",
    "    Compare predicted Named Entity Recognition (NER) results with ground truth for a specific category.\n",
    "\n",
    "    Parameters:\n",
    "    - ground_truth (dict): Ground truth labeled data with document IDs as keys and associated labels.\n",
    "    - predictions (dict): Predicted labeled data with document IDs as keys and associated labels.\n",
    "    - category (str): Specific NER category to evaluate.\n",
    "\n",
    "    Prints:\n",
    "    - Outputs differences between ground truth and predictions for the specified category.\n",
    "    - Calculates and prints Precision, Recall, and F1-Score for the specified category.\n",
    "    \"\"\"\n",
    "    def extract_entities(label_dict, category):\n",
    "        \"\"\"\n",
    "        Extract entities of a specific category from a label dictionary.\n",
    "\n",
    "        Parameters:\n",
    "        - label_dict (dict): Dictionary containing labels with document IDs as keys and associated labels.\n",
    "        - category (str): Specific NER category to extract.\n",
    "\n",
    "        Returns:\n",
    "        - dict: Dictionary with entities and their corresponding labels.\n",
    "        \"\"\"\n",
    "        entities = {}\n",
    "        for doc_id, labels in label_dict.items():\n",
    "            for label in labels:\n",
    "                if label[0] == category:\n",
    "                    entities[(doc_id, tuple(label[1:3]))] = label[3]\n",
    "        return entities\n",
    "\n",
    "    gt_entities = extract_entities(ground_truth, category)\n",
    "    pred_entities = extract_entities(predictions, category)\n",
    "\n",
    "    # Calculate True Positives (TP), False Positives (FP), and False Negatives (FN)\n",
    "    TP = len([e for e in pred_entities if e in gt_entities and pred_entities[e] == gt_entities[e]])\n",
    "    FP = len([e for e in pred_entities if e not in gt_entities or pred_entities[e] != gt_entities[e]])\n",
    "    FN = len([e for e in gt_entities if e not in pred_entities])\n",
    "\n",
    "    # Print differences\n",
    "    print(f\"Differences in '{category}':\")\n",
    "    for e in pred_entities:\n",
    "        if e not in gt_entities or pred_entities[e] != gt_entities[e]:\n",
    "            print(f\"Predicted but incorrect or not in ground truth: {e}, Prediction: '{pred_entities[e]}'\")\n",
    "\n",
    "    for e in gt_entities:\n",
    "        if e not in pred_entities:\n",
    "            print(f\"Missing in predictions: {e}, Ground Truth: '{gt_entities[e]}'\")\n",
    "\n",
    "    # Calculate Precision, Recall, F1\n",
    "    precision = TP / (TP + FP) if TP + FP > 0 else 0\n",
    "    recall = TP / (TP + FN) if TP + FN > 0 else 0\n",
    "    f1_score = 2 * (precision * recall) / (precision + recall) if precision + recall > 0 else 0\n",
    "\n",
    "    print(f\"\\nPrecision: {precision:.4f}, Recall: {recall:.4f}, F1-Score: {f1_score:.4f}\")\n"
   ]
  },
  {
   "cell_type": "code",
   "execution_count": 64,
   "id": "5170fb94",
   "metadata": {},
   "outputs": [
    {
     "name": "stdout",
     "output_type": "stream",
     "text": [
      "Differences in 'DATE':\n",
      "Predicted but incorrect or not in ground truth: ('file292', (12, 19)), Prediction: '1994073'\n",
      "Predicted but incorrect or not in ground truth: ('993', (6002, 6007)), Prediction: '333.4'\n",
      "Predicted but incorrect or not in ground truth: ('735', (5435, 5443)), Prediction: 'original'\n",
      "Predicted but incorrect or not in ground truth: ('file20783', (729, 738)), Prediction: '4/03/2021'\n",
      "Predicted but incorrect or not in ground truth: ('650', (6103, 6106)), Prediction: 'Now'\n",
      "Predicted but incorrect or not in ground truth: ('file18432', (772, 781)), Prediction: '5/06/2021'\n",
      "Predicted but incorrect or not in ground truth: ('775', (339, 343)), Prediction: '2008'\n",
      "Predicted but incorrect or not in ground truth: ('893', (555, 565)), Prediction: '13/2/62 LV'\n",
      "Predicted but incorrect or not in ground truth: ('file9042', (18428, 18432)), Prediction: '2512'\n",
      "Predicted but incorrect or not in ground truth: ('file5124', (12, 19)), Prediction: '2015083'\n",
      "Predicted but incorrect or not in ground truth: ('1057', (7144, 7152)), Prediction: 'new year'\n",
      "Predicted but incorrect or not in ground truth: ('file22604', (3643, 3659)), Prediction: '3-3/MY 22/2/2065'\n",
      "Predicted but incorrect or not in ground truth: ('file5423', (12, 19)), Prediction: '2007093'\n",
      "Predicted but incorrect or not in ground truth: ('795', (127, 130)), Prediction: 'Now'\n",
      "Predicted but incorrect or not in ground truth: ('file20864', (276, 279)), Prediction: 'REC'\n",
      "Predicted but incorrect or not in ground truth: ('file20864', (5053, 5054)), Prediction: 'L'\n",
      "Predicted but incorrect or not in ground truth: ('file10249', (12, 19)), Prediction: '2002083'\n",
      "Missing in predictions: ('1007', (1762, 1770)), Ground Truth: 'previous'\n",
      "Missing in predictions: ('1037', (3560, 3568)), Ground Truth: 'previous'\n",
      "Missing in predictions: ('545', (3454, 3457)), Ground Truth: 'now'\n",
      "Missing in predictions: ('654', (1319, 1327)), Ground Truth: 'previous'\n",
      "Missing in predictions: ('661', (531, 533)), Ground Truth: '54'\n",
      "Missing in predictions: ('820', (3044, 3052)), Ground Truth: 'previous'\n",
      "Missing in predictions: ('831', (4333, 4341)), Ground Truth: 'previous'\n",
      "Missing in predictions: ('849', (4080, 4088)), Ground Truth: 'previous'\n",
      "Missing in predictions: ('875', (401, 404)), Ground Truth: 'now'\n",
      "Missing in predictions: ('893', (555, 562)), Ground Truth: '13/2/62'\n",
      "Missing in predictions: ('file10249', (12, 20)), Ground Truth: '20020830'\n",
      "Missing in predictions: ('file20864', (268, 275)), Ground Truth: '18/2/67'\n",
      "Missing in predictions: ('file20864', (5013, 5021)), Ground Truth: 'previous'\n",
      "Missing in predictions: ('file20864', (5045, 5052)), Ground Truth: '19/2/65'\n",
      "Missing in predictions: ('file20986', (6973, 6976)), Ground Truth: 'now'\n",
      "Missing in predictions: ('file21189', (6942, 6945)), Ground Truth: 'now'\n",
      "Missing in predictions: ('file21392', (6948, 6951)), Ground Truth: 'now'\n",
      "Missing in predictions: ('file22604', (3650, 3659)), Ground Truth: '22/2/2065'\n",
      "Missing in predictions: ('file292', (12, 20)), Ground Truth: '19940730'\n",
      "Missing in predictions: ('file30591', (272, 277)), Ground Truth: 'today'\n",
      "Missing in predictions: ('file5124', (12, 20)), Ground Truth: '20150830'\n",
      "Missing in predictions: ('file5423', (12, 20)), Ground Truth: '20070930'\n",
      "\n",
      "Precision: 0.9894, Recall: 0.9864, F1-Score: 0.9879\n"
     ]
    }
   ],
   "source": [
    "compare_ner(ground_truth, predict, 'DATE')"
   ]
  },
  {
   "cell_type": "code",
   "execution_count": null,
   "metadata": {},
   "outputs": [],
   "source": [
    "def calculate_macro_scores(ground_truth, predictions):\n",
    "    \"\"\"\n",
    "    Calculate Macro Precision, Recall, and F1-Score across different categories for Named Entity Recognition (NER).\n",
    "\n",
    "    Parameters:\n",
    "    - ground_truth (dict): Ground truth labeled data with document IDs as keys and associated labels.\n",
    "    - predictions (dict): Predicted labeled data with document IDs as keys and associated labels.\n",
    "\n",
    "    Prints:\n",
    "    - Macro Precision, Recall, and F1-Score.\n",
    "\n",
    "    Note:\n",
    "    - Assumes the labeled data format with (doc_id, (start, end), label, text) for each entity.\n",
    "\n",
    "    Example:\n",
    "    ```python\n",
    "    calculate_macro_scores(ground_truth, predictions)\n",
    "    ```\n",
    "\n",
    "    The function calculates the Macro Precision, Recall, and F1-Score across different categories for NER.\n",
    "\n",
    "    \"\"\"\n",
    "    def extract_entities(label_dict):\n",
    "        \"\"\"\n",
    "        Extract entities from a label dictionary.\n",
    "\n",
    "        Parameters:\n",
    "        - label_dict (dict): Dictionary containing labels with document IDs as keys and associated labels.\n",
    "\n",
    "        Returns:\n",
    "        - dict: Dictionary with entities and their corresponding labels.\n",
    "        \"\"\"\n",
    "        entities = {}\n",
    "        for doc_id, labels in label_dict.items():\n",
    "            for label in labels:\n",
    "                key = (doc_id, tuple(label[1:3]), label[0])\n",
    "                entities[key] = label[3]\n",
    "        return entities\n",
    "\n",
    "    gt_entities = extract_entities(ground_truth)\n",
    "    pred_entities = extract_entities(predictions)\n",
    "\n",
    "    # Organize entities by category\n",
    "    categories = set([key[2] for key in gt_entities.keys()] + [key[2] for key in pred_entities.keys()])\n",
    "\n",
    "    total_precision, total_recall, total_f1 = 0, 0, 0\n",
    "    for category in categories:\n",
    "        # Filter entities by category\n",
    "        gt_cat = {k: v for k, v in gt_entities.items() if k[2] == category}\n",
    "        pred_cat = {k: v for k, v in pred_entities.items() if k[2] == category}\n",
    "\n",
    "        # Calculate True Positives (TP), False Positives (FP), and False Negatives (FN)\n",
    "        TP = len([e for e in pred_cat if e in gt_cat and pred_cat[e] == gt_cat[e]])\n",
    "        FP = len([e for e in pred_cat if e not in gt_cat or pred_cat[e] != gt_cat[e]])\n",
    "        FN = len([e for e in gt_cat if e not in pred_cat])\n",
    "\n",
    "        # Calculate Precision, Recall, F1 for this category\n",
    "        precision = TP / (TP + FP) if TP + FP > 0 else 0\n",
    "        recall = TP / (TP + FN) if TP + FN > 0 else 0\n",
    "        f1_score = 2 * (precision * recall) / (precision + recall) if precision + recall > 0 else 0\n",
    "\n",
    "        total_precision += precision\n",
    "        total_recall += recall\n",
    "        total_f1 += f1_score\n",
    "\n",
    "    # Calculate Macro Precision, Recall, F1\n",
    "    num_categories = len(categories)\n",
    "    macro_precision = total_precision / num_categories\n",
    "    macro_recall = total_recall / num_categories\n",
    "    macro_f1 = total_f1 / num_categories\n",
    "\n",
    "    print(f\"Macro Precision: {macro_precision:.4f}, Macro Recall: {macro_recall:.4f}, Macro F1-Score: {macro_f1:.4f}\")\n"
   ]
  },
  {
   "cell_type": "code",
   "execution_count": 56,
   "id": "9d0249a5",
   "metadata": {},
   "outputs": [
    {
     "name": "stdout",
     "output_type": "stream",
     "text": [
      "Macro Precision: 0.8860, Macro Recall: 0.9050, Macro F1-Score: 0.8939\n"
     ]
    }
   ],
   "source": [
    "calculate_macro_scores(ground_truth, predict)"
   ]
  },
  {
   "cell_type": "code",
   "execution_count": 26,
   "id": "670713f8",
   "metadata": {},
   "outputs": [
    {
     "name": "stdout",
     "output_type": "stream",
     "text": [
      "Macro Precision: 0.9792, Macro Recall: 0.9821, Macro F1-Score: 0.9805\n"
     ]
    }
   ],
   "source": [
    "calculate_macro_scores(ground_truth, predict)"
   ]
  },
  {
   "cell_type": "code",
   "execution_count": null,
   "id": "24472292",
   "metadata": {},
   "outputs": [],
   "source": [
    "calculate_macro_scores(ground_truth, predict)"
   ]
  }
 ],
 "metadata": {
  "kernelspec": {
   "display_name": "Python 3 (ipykernel)",
   "language": "python",
   "name": "python3"
  },
  "language_info": {
   "codemirror_mode": {
    "name": "ipython",
    "version": 3
   },
   "file_extension": ".py",
   "mimetype": "text/x-python",
   "name": "python",
   "nbconvert_exporter": "python",
   "pygments_lexer": "ipython3",
   "version": "3.10.12"
  }
 },
 "nbformat": 4,
 "nbformat_minor": 5
}
