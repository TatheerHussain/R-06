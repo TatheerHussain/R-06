{
 "cells": [
  {
   "cell_type": "code",
   "execution_count": 1,
   "id": "d2ac8093",
   "metadata": {},
   "outputs": [],
   "source": [
    "# library\n",
    "import os"
   ]
  },
  {
   "cell_type": "code",
   "execution_count": 2,
   "id": "0b6d7cf4",
   "metadata": {},
   "outputs": [],
   "source": [
    "def create_label_dict(label_path):\n",
    "    \"\"\"\n",
    "    Create a dictionary of labeled data from a file.\n",
    "\n",
    "    Parameters:\n",
    "    - label_path (str): The path to the file containing labeled data.\n",
    "\n",
    "    Returns:\n",
    "    - dict: A dictionary where each key is an ID and the corresponding value is a list of labels associated with that ID.\n",
    "    \"\"\"\n",
    "    label_dict = {}  # y\n",
    "    with open(label_path, \"r\", encoding=\"utf-8-sig\") as f:\n",
    "        file_text = f.read().strip()\n",
    "\n",
    "    # Parse each line of the file and create the label dictionary\n",
    "    for line in file_text.split(\"\\n\"):\n",
    "        sample = line.split(\"\\t\")\n",
    "        sample[2], sample[3] = int(sample[2]), int(sample[3])\n",
    "\n",
    "        if sample[0] not in label_dict:\n",
    "            label_dict[sample[0]] = [sample[1:]]\n",
    "        else:\n",
    "            label_dict[sample[0]].append(sample[1:])\n",
    "\n",
    "    return label_dict\n"
   ]
  },
  {
   "cell_type": "markdown",
   "metadata": {},
   "source": [
    "## Load predictions"
   ]
  },
  {
   "cell_type": "code",
   "execution_count": 3,
   "id": "73e316ad",
   "metadata": {},
   "outputs": [],
   "source": [
    "val_label_path = \"./submission/answer42.txt\"\n",
    "ans42 = create_label_dict(val_label_path)\n",
    "val_label_path = \"./submission/answer43.txt\"\n",
    "ans43 = create_label_dict(val_label_path)\n",
    "val_label_path = \"./submission/answer44.txt\"\n",
    "ans44 = create_label_dict(val_label_path)\n",
    "val_label_path = \"./submission/answer45.txt\"\n",
    "ans45 = create_label_dict(val_label_path)\n",
    "val_label_path = \"./submission/answer46.txt\"\n",
    "ans46 = create_label_dict(val_label_path)"
   ]
  },
  {
   "cell_type": "code",
   "execution_count": 4,
   "id": "66d8671b",
   "metadata": {},
   "outputs": [],
   "source": [
    "all_predictions=[ans42,ans43,ans44,ans45,ans46]"
   ]
  },
  {
   "cell_type": "markdown",
   "metadata": {},
   "source": [
    "## Combine all predictions to one prediction file"
   ]
  },
  {
   "cell_type": "code",
   "execution_count": 5,
   "id": "070b3b6f",
   "metadata": {},
   "outputs": [],
   "source": [
    "from collections import defaultdict, Counter\n",
    "\n",
    "def vote_predictions(prediction_dicts):\n",
    "    \"\"\"\n",
    "    Combine multiple prediction dictionaries using a voting mechanism.\n",
    "\n",
    "    Parameters:\n",
    "    - prediction_dicts (list): A list of dictionaries containing predictions.\n",
    "\n",
    "    Returns:\n",
    "    - dict: A final dictionary of predictions, resolving conflicts by majority voting.\n",
    "    \"\"\"\n",
    "    all_predictions = defaultdict(list)\n",
    "\n",
    "    # Combine predictions from different dictionaries\n",
    "    for prediction_dict in prediction_dicts:\n",
    "        for doc_id, entities in prediction_dict.items():\n",
    "            all_predictions[doc_id].extend(entities)\n",
    "\n",
    "    final_predictions = {}\n",
    "\n",
    "    # Resolve conflicts and determine final predictions\n",
    "    for doc_id, entities in all_predictions.items():\n",
    "        voted_entities = defaultdict(Counter)\n",
    "\n",
    "        # Count votes for each (label, start, end) combination\n",
    "        for entity in entities:\n",
    "            label, start, end, pred_value = entity\n",
    "            voted_entities[(label, start, end)].update([pred_value])\n",
    "\n",
    "        final_entities = []\n",
    "\n",
    "        # Select the most common prediction for each (label, start, end) combination\n",
    "        for key, counter in voted_entities.items():\n",
    "            most_common_pred, _ = counter.most_common(1)[0]\n",
    "            final_entities.append(list(key) + [most_common_pred])\n",
    "\n",
    "        final_predictions[doc_id] = final_entities\n",
    "\n",
    "    return final_predictions"
   ]
  },
  {
   "cell_type": "code",
   "execution_count": 6,
   "id": "c3a7df4e",
   "metadata": {},
   "outputs": [],
   "source": [
    "final_predictions = vote_predictions(all_predictions)"
   ]
  },
  {
   "cell_type": "code",
   "execution_count": 7,
   "id": "ec11a183",
   "metadata": {},
   "outputs": [],
   "source": [
    "def write_processed_labels_to_file(processed_label_dict, output_path):\n",
    "    \"\"\"\n",
    "    Write processed labels from a dictionary to a file.\n",
    "\n",
    "    Parameters:\n",
    "    - processed_label_dict (dict): A dictionary where each key is a sample ID,\n",
    "      and the corresponding value is a list of processed labels.\n",
    "    - output_path (str): The path to the output file.\n",
    "\n",
    "    Returns:\n",
    "    - None\n",
    "    \"\"\"\n",
    "    with open(output_path, \"w\", encoding=\"utf-8\") as f:\n",
    "        for sample_id, labels in processed_label_dict.items():\n",
    "            for label in labels:\n",
    "                output_line = f\"{sample_id}\\t{label[0]}\\t{label[1]}\\t{label[2]}\\t{label[3]}\"\n",
    "\n",
    "                # Include additional fields if present\n",
    "                if len(label) > 4:\n",
    "                    output_line += f\"\\t{label[4]}\"\n",
    "\n",
    "                output_line += \"\\n\"\n",
    "                f.write(output_line)"
   ]
  },
  {
   "cell_type": "code",
   "execution_count": 8,
   "id": "35cd868d",
   "metadata": {},
   "outputs": [],
   "source": [
    "\n",
    "output_path = \"./submission/vote_answer.txt\"\n",
    "\n",
    "write_processed_labels_to_file(final_predictions, output_path)"
   ]
  }
 ],
 "metadata": {
  "kernelspec": {
   "display_name": "Python 3 (ipykernel)",
   "language": "python",
   "name": "python3"
  },
  "language_info": {
   "codemirror_mode": {
    "name": "ipython",
    "version": 3
   },
   "file_extension": ".py",
   "mimetype": "text/x-python",
   "name": "python",
   "nbconvert_exporter": "python",
   "pygments_lexer": "ipython3",
   "version": "3.11.5"
  }
 },
 "nbformat": 4,
 "nbformat_minor": 5
}
